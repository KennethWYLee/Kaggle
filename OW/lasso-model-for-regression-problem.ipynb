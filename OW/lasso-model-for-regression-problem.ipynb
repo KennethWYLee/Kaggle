{
 "cells": [
  {
   "cell_type": "code",
   "execution_count": 1,
   "metadata": {
    "_cell_guid": "6c1b5539-1759-e753-6dae-41f655ad31eb"
   },
   "outputs": [],
   "source": [
    "import pandas as pd\n",
    "import numpy as np\n",
    "import matplotlib.pyplot as plt\n",
    "from sklearn.linear_model import Lasso\n",
    "from sklearn.ensemble import RandomForestRegressor\n",
    "%matplotlib inline"
   ]
  },
  {
   "cell_type": "code",
   "execution_count": 2,
   "metadata": {
    "_cell_guid": "4966d147-a568-0ce2-d84e-6dd84b2c62eb"
   },
   "outputs": [],
   "source": [
    "train = pd.read_csv(\"../input/train.csv\")\n",
    "test = pd.read_csv(\"../input/test.csv\")"
   ]
  },
  {
   "cell_type": "code",
   "execution_count": 3,
   "metadata": {
    "_cell_guid": "a8af6127-0180-983a-8ffd-ec18d569bbb8"
   },
   "outputs": [],
   "source": [
    "p_poly_val = np.polyfit(train['OverallQual'], train['SalePrice'], 3)\n",
    "\n",
    "all_data = pd.concat((train.loc[:,'MSSubClass':'SaleCondition'],\n",
    "                      test.loc[:,'MSSubClass':'SaleCondition']), ignore_index=True)"
   ]
  },
  {
   "cell_type": "markdown",
   "metadata": {
    "_cell_guid": "7ffbc4c8-bf8e-b7ad-8a31-7cd41bfbb1fa"
   },
   "source": [
    "## Imputation of missing values ##"
   ]
  },
  {
   "cell_type": "code",
   "execution_count": 4,
   "metadata": {
    "_cell_guid": "41f21588-54a2-cccf-ebfb-b82f22818d08"
   },
   "outputs": [],
   "source": [
    "#warnings.simplefilter('ignore', np.RankWarning)\n",
    "# I have no idea how to do it better. Probably, it is better to do nothing\n",
    "x = all_data.loc[np.logical_not(all_data[\"LotFrontage\"].isnull()), \"LotArea\"]\n",
    "y = all_data.loc[np.logical_not(all_data[\"LotFrontage\"].isnull()), \"LotFrontage\"]\n",
    "# plt.scatter(x, y)\n",
    "t = (x <= 25000) & (y <= 150)\n",
    "p = np.polyfit(x[t], y[t], 1)\n",
    "all_data.loc[all_data['LotFrontage'].isnull(), 'LotFrontage'] = np.polyval(p, all_data.loc[all_data['LotFrontage'].isnull(), 'LotArea'])"
   ]
  },
  {
   "cell_type": "markdown",
   "metadata": {
    "_cell_guid": "adad1d8c-1f3a-cc8d-eebd-d0f97110a7da"
   },
   "source": [
    "There are many features were NaN should be considered as absence of such property. In other cases I replace NaN with most common value"
   ]
  },
  {
   "cell_type": "code",
   "execution_count": 5,
   "metadata": {
    "_cell_guid": "3bfae950-1716-ccdd-1fe7-c01a0f07cfd3"
   },
   "outputs": [],
   "source": [
    "all_data = all_data.fillna({\n",
    "    'Alley' : 'NoAlley',\n",
    "    'MasVnrType': 'None',\n",
    "    'FireplaceQu': 'NoFireplace',\n",
    "    'GarageType': 'NoGarage',\n",
    "    'GarageFinish': 'NoGarage',\n",
    "    'GarageQual': 'NoGarage',\n",
    "    'GarageCond': 'NoGarage',\n",
    "    'BsmtFullBath': 0,\n",
    "    'BsmtHalfBath': 0,\n",
    "    'BsmtQual' : 'NoBsmt',\n",
    "    'BsmtCond' : 'NoBsmt',\n",
    "    'BsmtExposure' : 'NoBsmt',\n",
    "    'BsmtFinType1' : 'NoBsmt',\n",
    "    'BsmtFinType2' : 'NoBsmt',\n",
    "    'KitchenQual' : 'TA',\n",
    "    'MSZoning' : 'RL',\n",
    "    'Utilities' : 'AllPub',\n",
    "    'Exterior1st' : 'VinylSd',\n",
    "    'Exterior2nd'   : 'VinylSd',\n",
    "    'Functional' : 'Typ',\n",
    "    'PoolQC' : 'NoPool',\n",
    "    'Fence' : 'NoFence',\n",
    "    'MiscFeature' : 'None',\n",
    "    'Electrical' : 'SBrkr'\n",
    "     \n",
    "})\n",
    "\n",
    "\n",
    "all_data.loc[all_data.SaleCondition.isnull(), 'SaleCondition'] = 'Normal'\n",
    "all_data.loc[all_data.SaleCondition.isnull(), 'SaleType'] = 'WD'\n",
    "all_data.loc[all_data.MasVnrType == 'None', 'MasVnrArea'] = 0\n",
    "all_data.loc[all_data.BsmtFinType1=='NoBsmt', 'BsmtFinSF1'] = 0\n",
    "all_data.loc[all_data.BsmtFinType2=='NoBsmt', 'BsmtFinSF2'] = 0\n",
    "all_data.loc[all_data.BsmtFinSF1.isnull(), 'BsmtFinSF1'] = all_data.BsmtFinSF1.median()\n",
    "all_data.loc[all_data.BsmtQual=='NoBsmt', 'BsmtUnfSF'] = 0\n",
    "all_data.loc[all_data.BsmtUnfSF.isnull(), 'BsmtUnfSF'] = all_data.BsmtUnfSF.median()\n",
    "all_data.loc[all_data.BsmtQual=='NoBsmt', 'TotalBsmtSF'] = 0\n",
    "\n",
    "# only one is null and it has type Detchd\n",
    "all_data.loc[all_data['GarageArea'].isnull(), 'GarageArea'] = all_data.loc[all_data['GarageType']=='Detchd', 'GarageArea'].mean()\n",
    "all_data.loc[all_data['GarageCars'].isnull(), 'GarageCars'] = all_data.loc[all_data['GarageType']=='Detchd', 'GarageCars'].median()"
   ]
  },
  {
   "cell_type": "markdown",
   "metadata": {
    "_cell_guid": "9bb00740-bde7-a678-c29f-fb1e2709105b"
   },
   "source": [
    "## Normalization ##"
   ]
  },
  {
   "cell_type": "code",
   "execution_count": 6,
   "metadata": {
    "_cell_guid": "f706c097-313b-d53e-908d-2d02a10868c4"
   },
   "outputs": [],
   "source": [
    "# where we have order we will use numeric\n",
    "all_data = all_data.replace({'Utilities': {'AllPub': 1, 'NoSeWa': 0, 'NoSewr': 0, 'ELO': 0},\n",
    "                             'Street': {'Pave': 1, 'Grvl': 0 },\n",
    "                             'FireplaceQu': {'Ex': 5, \n",
    "                                            'Gd': 4, \n",
    "                                            'TA': 3, \n",
    "                                            'Fa': 2,\n",
    "                                            'Po': 1,\n",
    "                                            'NoFireplace': 0 \n",
    "                                            },\n",
    "                             'Fence': {'GdPrv': 2, \n",
    "                                       'GdWo': 2, \n",
    "                                       'MnPrv': 1, \n",
    "                                       'MnWw': 1,\n",
    "                                       'NoFence': 0},\n",
    "                             'ExterQual': {'Ex': 5, \n",
    "                                            'Gd': 4, \n",
    "                                            'TA': 3, \n",
    "                                            'Fa': 2,\n",
    "                                            'Po': 1\n",
    "                                            },\n",
    "                             'ExterCond': {'Ex': 5, \n",
    "                                            'Gd': 4, \n",
    "                                            'TA': 3, \n",
    "                                            'Fa': 2,\n",
    "                                            'Po': 1\n",
    "                                            },\n",
    "                             'BsmtQual': {'Ex': 5, \n",
    "                                            'Gd': 4, \n",
    "                                            'TA': 3, \n",
    "                                            'Fa': 2,\n",
    "                                            'Po': 1,\n",
    "                                            'NoBsmt': 0},\n",
    "                             'BsmtExposure': {'Gd': 3, \n",
    "                                            'Av': 2, \n",
    "                                            'Mn': 1,\n",
    "                                            'No': 0,\n",
    "                                            'NoBsmt': 0},\n",
    "                             'BsmtCond': {'Ex': 5, \n",
    "                                            'Gd': 4, \n",
    "                                            'TA': 3, \n",
    "                                            'Fa': 2,\n",
    "                                            'Po': 1,\n",
    "                                            'NoBsmt': 0},\n",
    "                             'GarageQual': {'Ex': 5, \n",
    "                                            'Gd': 4, \n",
    "                                            'TA': 3, \n",
    "                                            'Fa': 2,\n",
    "                                            'Po': 1,\n",
    "                                            'NoGarage': 0},\n",
    "                             'GarageCond': {'Ex': 5, \n",
    "                                            'Gd': 4, \n",
    "                                            'TA': 3, \n",
    "                                            'Fa': 2,\n",
    "                                            'Po': 1,\n",
    "                                            'NoGarage': 0},\n",
    "                             'KitchenQual': {'Ex': 5, \n",
    "                                            'Gd': 4, \n",
    "                                            'TA': 3, \n",
    "                                            'Fa': 2,\n",
    "                                            'Po': 1},\n",
    "                             'Functional': {'Typ': 0,\n",
    "                                            'Min1': 1,\n",
    "                                            'Min2': 1,\n",
    "                                            'Mod': 2,\n",
    "                                            'Maj1': 3,\n",
    "                                            'Maj2': 4,\n",
    "                                            'Sev': 5,\n",
    "                                            'Sal': 6}                             \n",
    "                            })"
   ]
  },
  {
   "cell_type": "code",
   "execution_count": 7,
   "metadata": {
    "_cell_guid": "a22c83af-1b99-80c5-c9e0-ae3b98fc8277"
   },
   "outputs": [],
   "source": [
    "all_data = all_data.replace({'CentralAir': {'Y': 1, \n",
    "                                            'N': 0}})\n",
    "all_data = all_data.replace({'PavedDrive': {'Y': 1, \n",
    "                                            'P': 0,\n",
    "                                            'N': 0}})\n",
    "\n",
    "newer_dwelling = all_data.MSSubClass.replace({20: 1, \n",
    "                                            30: 0, \n",
    "                                            40: 0, \n",
    "                                            45: 0,\n",
    "                                            50: 0, \n",
    "                                            60: 1,\n",
    "                                            70: 0,\n",
    "                                            75: 0,\n",
    "                                            80: 0,\n",
    "                                            85: 0,\n",
    "                                            90: 0,\n",
    "                                           120: 1,\n",
    "                                           150: 0,\n",
    "                                           160: 0,\n",
    "                                           180: 0,\n",
    "                                           190: 0})\n",
    "newer_dwelling.name = 'newer_dwelling'"
   ]
  },
  {
   "cell_type": "code",
   "execution_count": 8,
   "metadata": {
    "_cell_guid": "fcc7f095-ba43-0377-66bc-8ebdfbb18e31"
   },
   "outputs": [],
   "source": [
    "all_data = all_data.replace({'MSSubClass': {20: 'SubClass_20', \n",
    "                                            30: 'SubClass_30', \n",
    "                                            40: 'SubClass_40', \n",
    "                                            45: 'SubClass_45',\n",
    "                                            50: 'SubClass_50', \n",
    "                                            60: 'SubClass_60',\n",
    "                                            70: 'SubClass_70',\n",
    "                                            75: 'SubClass_75',\n",
    "                                            80: 'SubClass_80',\n",
    "                                            85: 'SubClass_85',\n",
    "                                            90: 'SubClass_90',\n",
    "                                           120: 'SubClass_120',\n",
    "                                           150: 'SubClass_150',\n",
    "                                           160: 'SubClass_160',\n",
    "                                           180: 'SubClass_180',\n",
    "                                           190: 'SubClass_190'}})"
   ]
  },
  {
   "cell_type": "code",
   "execution_count": 9,
   "metadata": {
    "_cell_guid": "4245cfd6-86f6-4590-fbf3-3f292f3f0495"
   },
   "outputs": [],
   "source": [
    "# The idea is good quality should rise price, poor quality - reduce price\n",
    "overall_poor_qu = all_data.OverallQual.copy()\n",
    "overall_poor_qu = 5 - overall_poor_qu\n",
    "overall_poor_qu[overall_poor_qu<0] = 0\n",
    "overall_poor_qu.name = 'overall_poor_qu'\n",
    "\n",
    "overall_good_qu = all_data.OverallQual.copy()\n",
    "overall_good_qu = overall_good_qu - 5\n",
    "overall_good_qu[overall_good_qu<0] = 0\n",
    "overall_good_qu.name = 'overall_good_qu'\n",
    "\n",
    "overall_poor_cond = all_data.OverallCond.copy()\n",
    "overall_poor_cond = 5 - overall_poor_cond\n",
    "overall_poor_cond[overall_poor_cond<0] = 0\n",
    "overall_poor_cond.name = 'overall_poor_cond'\n",
    "\n",
    "overall_good_cond = all_data.OverallCond.copy()\n",
    "overall_good_cond = overall_good_cond - 5\n",
    "overall_good_cond[overall_good_cond<0] = 0\n",
    "overall_good_cond.name = 'overall_good_cond'\n",
    "\n",
    "exter_poor_qu = all_data.ExterQual.copy()\n",
    "exter_poor_qu[exter_poor_qu<3] = 1\n",
    "exter_poor_qu[exter_poor_qu>=3] = 0\n",
    "exter_poor_qu.name = 'exter_poor_qu'\n",
    "\n",
    "exter_good_qu = all_data.ExterQual.copy()\n",
    "exter_good_qu[exter_good_qu<=3] = 0\n",
    "exter_good_qu[exter_good_qu>3] = 1\n",
    "exter_good_qu.name = 'exter_good_qu'\n",
    "\n",
    "exter_poor_cond = all_data.ExterCond.copy()\n",
    "exter_poor_cond[exter_poor_cond<3] = 1\n",
    "exter_poor_cond[exter_poor_cond>=3] = 0\n",
    "exter_poor_cond.name = 'exter_poor_cond'\n",
    "\n",
    "exter_good_cond = all_data.ExterCond.copy()\n",
    "exter_good_cond[exter_good_cond<=3] = 0\n",
    "exter_good_cond[exter_good_cond>3] = 1\n",
    "exter_good_cond.name = 'exter_good_cond'\n",
    "\n",
    "bsmt_poor_cond = all_data.BsmtCond.copy()\n",
    "bsmt_poor_cond[bsmt_poor_cond<3] = 1\n",
    "bsmt_poor_cond[bsmt_poor_cond>=3] = 0\n",
    "bsmt_poor_cond.name = 'bsmt_poor_cond'\n",
    "\n",
    "bsmt_good_cond = all_data.BsmtCond.copy()\n",
    "bsmt_good_cond[bsmt_good_cond<=3] = 0\n",
    "bsmt_good_cond[bsmt_good_cond>3] = 1\n",
    "bsmt_good_cond.name = 'bsmt_good_cond'\n",
    "\n",
    "garage_poor_qu = all_data.GarageQual.copy()\n",
    "garage_poor_qu[garage_poor_qu<3] = 1\n",
    "garage_poor_qu[garage_poor_qu>=3] = 0\n",
    "garage_poor_qu.name = 'garage_poor_qu'\n",
    "\n",
    "garage_good_qu = all_data.GarageQual.copy()\n",
    "garage_good_qu[garage_good_qu<=3] = 0\n",
    "garage_good_qu[garage_good_qu>3] = 1\n",
    "garage_good_qu.name = 'garage_good_qu'\n",
    "\n",
    "garage_poor_cond = all_data.GarageCond.copy()\n",
    "garage_poor_cond[garage_poor_cond<3] = 1\n",
    "garage_poor_cond[garage_poor_cond>=3] = 0\n",
    "garage_poor_cond.name = 'garage_poor_cond'\n",
    "\n",
    "garage_good_cond = all_data.GarageCond.copy()\n",
    "garage_good_cond[garage_good_cond<=3] = 0\n",
    "garage_good_cond[garage_good_cond>3] = 1\n",
    "garage_good_cond.name = 'garage_good_cond'\n",
    "\n",
    "kitchen_poor_qu = all_data.KitchenQual.copy()\n",
    "kitchen_poor_qu[kitchen_poor_qu<3] = 1\n",
    "kitchen_poor_qu[kitchen_poor_qu>=3] = 0\n",
    "kitchen_poor_qu.name = 'kitchen_poor_qu'\n",
    "\n",
    "kitchen_good_qu = all_data.KitchenQual.copy()\n",
    "kitchen_good_qu[kitchen_good_qu<=3] = 0\n",
    "kitchen_good_qu[kitchen_good_qu>3] = 1\n",
    "kitchen_good_qu.name = 'kitchen_good_qu'\n",
    "\n",
    "qu_list = pd.concat((overall_poor_qu, overall_good_qu, overall_poor_cond, overall_good_cond, exter_poor_qu,\n",
    "                     exter_good_qu, exter_poor_cond, exter_good_cond, bsmt_poor_cond, bsmt_good_cond, garage_poor_qu,\n",
    "                     garage_good_qu, garage_poor_cond, garage_good_cond, kitchen_poor_qu, kitchen_good_qu), axis=1)\n",
    "\n",
    "bad_heating = all_data.HeatingQC.replace({'Ex': 0, \n",
    "                                          'Gd': 0, \n",
    "                                          'TA': 0, \n",
    "                                          'Fa': 1,\n",
    "                                          'Po': 1})\n",
    "bad_heating.name = 'bad_heating'\n",
    "                                          \n",
    "MasVnrType_Any = all_data.MasVnrType.replace({'BrkCmn': 1,\n",
    "                                              'BrkFace': 1,\n",
    "                                              'CBlock': 1,\n",
    "                                              'Stone': 1,\n",
    "                                              'None': 0})\n",
    "MasVnrType_Any.name = 'MasVnrType_Any'\n",
    "\n",
    "SaleCondition_PriceDown = all_data.SaleCondition.replace({'Abnorml': 1,\n",
    "                                                          'Alloca': 1,\n",
    "                                                          'AdjLand': 1,\n",
    "                                                          'Family': 1,\n",
    "                                                          'Normal': 0,\n",
    "                                                          'Partial': 0})\n",
    "SaleCondition_PriceDown.name = 'SaleCondition_PriceDown'\n",
    "\n",
    "Neighborhood_Good = pd.DataFrame(np.zeros((all_data.shape[0],1)), columns=['Neighborhood_Good'])\n",
    "Neighborhood_Good[all_data.Neighborhood=='NridgHt'] = 1\n",
    "Neighborhood_Good[all_data.Neighborhood=='Crawfor'] = 1\n",
    "Neighborhood_Good[all_data.Neighborhood=='StoneBr'] = 1\n",
    "Neighborhood_Good[all_data.Neighborhood=='Somerst'] = 1\n",
    "Neighborhood_Good[all_data.Neighborhood=='NoRidge'] = 1\n",
    "\n",
    "# do smth with BsmtFinType1, BsmtFinType2"
   ]
  },
  {
   "cell_type": "markdown",
   "metadata": {
    "_cell_guid": "8cbb3844-4bef-bbad-3d78-6f834300d110"
   },
   "source": [
    "I have no idea what to do with Exterior1st, Exterior2nd, RoofMatl, Condition1, Condition2, BldgType. I'll try convert them into some kind of price brackets"
   ]
  },
  {
   "cell_type": "code",
   "execution_count": 10,
   "metadata": {
    "_cell_guid": "f0fdf976-c5bb-fe0b-3ffe-511197bf11b4"
   },
   "outputs": [],
   "source": [
    "from sklearn.svm import SVC\n",
    "svm = SVC(C=100, gamma=0.0001, kernel='rbf')\n",
    "# price categories\n",
    "pc = pd.Series(np.zeros(train.shape[0]))\n",
    "pc[:] = 'pc1'\n",
    "pc[train.SalePrice >= 150000] = 'pc2'\n",
    "pc[train.SalePrice >= 220000] = 'pc3'\n",
    "columns_for_pc = ['Exterior1st', 'Exterior2nd', 'RoofMatl', 'Condition1', 'Condition2', 'BldgType']\n",
    "X_t = pd.get_dummies(train.loc[:, columns_for_pc], sparse=True)\n",
    "svm.fit(X_t, pc)\n",
    "pc_pred = svm.predict(X_t)"
   ]
  },
  {
   "cell_type": "code",
   "execution_count": 11,
   "metadata": {
    "_cell_guid": "b7ecdeae-937b-a58d-befc-4d2b638e1041"
   },
   "outputs": [],
   "source": [
    "p = train.SalePrice/100000\n",
    "#plt.hist(p[pc_pred=='pc1'])\n",
    "#plt.hist(p[pc_pred=='pc2'])\n",
    "#plt.hist(p[pc_pred=='pc3'])"
   ]
  },
  {
   "cell_type": "code",
   "execution_count": 12,
   "metadata": {
    "_cell_guid": "b444fe09-fd4b-28e9-a08d-6080f8e9ea1d"
   },
   "outputs": [],
   "source": [
    "price_category = pd.DataFrame(np.zeros((all_data.shape[0],1)), columns=['pc'])\n",
    "X_t = pd.get_dummies(all_data.loc[:, columns_for_pc], sparse=True)\n",
    "pc_pred = svm.predict(X_t)\n",
    "price_category[pc_pred=='pc2'] = 1\n",
    "price_category[pc_pred=='pc3'] = 2\n",
    "price_category = price_category.to_sparse()"
   ]
  },
  {
   "cell_type": "code",
   "execution_count": 13,
   "metadata": {
    "_cell_guid": "df571648-bb68-1eed-ad9f-e924911f4dbf"
   },
   "outputs": [],
   "source": [
    "# Monthes with the lagest number of deals may be significant\n",
    "season = all_data.MoSold.replace( {1: 0, \n",
    "                                   2: 0, \n",
    "                                   3: 0, \n",
    "                                   4: 1,\n",
    "                                   5: 1, \n",
    "                                   6: 1,\n",
    "                                   7: 1,\n",
    "                                   8: 0,\n",
    "                                   9: 0,\n",
    "                                  10: 0,\n",
    "                                  11: 0,\n",
    "                                  12: 0})\n",
    "season.name = 'season'\n",
    "\n",
    "# Numer month is not significant\n",
    "all_data = all_data.replace({'MoSold': {1: 'Yan', \n",
    "                                        2: 'Feb', \n",
    "                                        3: 'Mar', \n",
    "                                        4: 'Apr',\n",
    "                                        5: 'May', \n",
    "                                        6: 'Jun',\n",
    "                                        7: 'Jul',\n",
    "                                        8: 'Avg',\n",
    "                                        9: 'Sep',\n",
    "                                        10: 'Oct',\n",
    "                                        11: 'Nov',\n",
    "                                        12: 'Dec'}})"
   ]
  },
  {
   "cell_type": "code",
   "execution_count": 14,
   "metadata": {
    "_cell_guid": "7428a0fe-0695-1709-fbee-e57148f7eb39"
   },
   "outputs": [],
   "source": [
    "#all_data = all_data.replace({'CentralAir': {'Y': 1, \n",
    "#                                            'N': 0}})\n",
    "#all_data = all_data.replace({'PavedDrive': {'Y': 1, \n",
    " #                                           'P': 0,\n",
    "#                                           'N': 0}})"
   ]
  },
  {
   "cell_type": "code",
   "execution_count": 15,
   "metadata": {
    "_cell_guid": "4a4b1ece-a80f-0071-8020-522e9c75fa26"
   },
   "outputs": [],
   "source": [
    "reconstruct = pd.DataFrame(np.zeros((all_data.shape[0],1)), columns=['Reconstruct'])\n",
    "reconstruct[all_data.YrSold < all_data.YearRemodAdd] = 1\n",
    "reconstruct = reconstruct.to_sparse()\n",
    "\n",
    "recon_after_buy = pd.DataFrame(np.zeros((all_data.shape[0],1)), columns=['ReconstructAfterBuy'])\n",
    "recon_after_buy[all_data.YearRemodAdd >= all_data.YrSold] = 1\n",
    "recon_after_buy = recon_after_buy.to_sparse()\n",
    "\n",
    "build_eq_buy = pd.DataFrame(np.zeros((all_data.shape[0],1)), columns=['Build.eq.Buy'])\n",
    "build_eq_buy[all_data.YearBuilt >= all_data.YrSold] = 1\n",
    "build_eq_buy = build_eq_buy.to_sparse()"
   ]
  },
  {
   "cell_type": "code",
   "execution_count": 16,
   "metadata": {
    "_cell_guid": "4aac1977-9a4c-0dfe-8abc-737cb0c945cb"
   },
   "outputs": [],
   "source": [
    "# I hope this will help\n",
    "all_data.YrSold = 2010 - all_data.YrSold"
   ]
  },
  {
   "cell_type": "code",
   "execution_count": 17,
   "metadata": {
    "_cell_guid": "54ee71df-fdcd-00df-6adf-f76453daacdf"
   },
   "outputs": [],
   "source": [
    "year_map = pd.concat(pd.Series('YearGroup' + str(i+1), index=range(1871+i*20,1891+i*20)) for i in range(0, 7))\n",
    "all_data.GarageYrBlt = all_data.GarageYrBlt.map(year_map)\n",
    "all_data.loc[all_data['GarageYrBlt'].isnull(), 'GarageYrBlt'] = 'NoGarage'"
   ]
  },
  {
   "cell_type": "code",
   "execution_count": 18,
   "metadata": {
    "_cell_guid": "060e746d-16fb-1d41-468a-584b1c5b1cb3"
   },
   "outputs": [],
   "source": [
    "all_data.YearBuilt = all_data.YearBuilt.map(year_map)\n",
    "all_data.YearRemodAdd = all_data.YearRemodAdd.map(year_map)"
   ]
  },
  {
   "cell_type": "markdown",
   "metadata": {
    "_cell_guid": "6ebb4194-80fb-a91d-e153-cd38688b4a1d"
   },
   "source": [
    "Scaling numeric data"
   ]
  },
  {
   "cell_type": "code",
   "execution_count": 19,
   "metadata": {
    "_cell_guid": "2b153f12-8081-ebe4-e503-3c55c8350618"
   },
   "outputs": [],
   "source": [
    "numeric_feats = all_data.dtypes[all_data.dtypes != \"object\"].index\n",
    "t = all_data[numeric_feats].quantile(.75)\n",
    "use_75_scater = t[t != 0].index\n",
    "all_data[use_75_scater] = all_data[use_75_scater]/all_data[use_75_scater].quantile(.75)"
   ]
  },
  {
   "cell_type": "code",
   "execution_count": 20,
   "metadata": {
    "_cell_guid": "89aace43-ac8c-3c7d-eaf7-c6d85adec796"
   },
   "outputs": [],
   "source": [
    "t = ['LotFrontage', 'LotArea', 'MasVnrArea', 'BsmtFinSF1', 'BsmtFinSF2', 'BsmtUnfSF', 'TotalBsmtSF', \n",
    "     '1stFlrSF', '2ndFlrSF', 'LowQualFinSF', 'GrLivArea', 'GarageArea', 'WoodDeckSF', 'OpenPorchSF', \n",
    "     'EnclosedPorch', '3SsnPorch', 'ScreenPorch', 'PoolArea', 'MiscVal']\n",
    "\n",
    "all_data.loc[:, t] = np.log1p(all_data.loc[:, t])"
   ]
  },
  {
   "cell_type": "markdown",
   "metadata": {
    "_cell_guid": "063dfaf9-7f49-5c62-655b-8c35d5d2f19e"
   },
   "source": [
    "## Preparing for sklearn##"
   ]
  },
  {
   "cell_type": "code",
   "execution_count": 21,
   "metadata": {
    "_cell_guid": "83da8155-1385-dce5-9e8b-4630ef12ff61"
   },
   "outputs": [],
   "source": [
    "# all classes in sklearn requires numeric data only\n",
    "# transform categorical variable into binary\n",
    "#X = pd.get_dummies(all_data, sparse=True)\n",
    "X = pd.get_dummies(all_data)\n",
    "X = X.fillna(X.median())\n",
    "#X = X.fillna(0)\n",
    "\n",
    "all_data.fillna(all_data.median())\n",
    "\n",
    "X[\"IsRegularLotShape\"] = (all_data[\"LotShape\"] == \"Reg\") * 1\n",
    "X[\"IsLandLevel\"] = (all_data[\"LandContour\"] == \"Lvl\") * 1\n",
    "\n",
    "# Most land slopes are gentle; treat the others as \"not gentle\".\n",
    "X[\"IsLandSlopeGentle\"] = (all_data[\"LandSlope\"] == \"Gtl\") * 1\n",
    "\n",
    "# Most properties use standard circuit breakers.\n",
    "X[\"IsElectricalSBrkr\"] = (all_data[\"Electrical\"] == \"SBrkr\") * 1\n",
    "\n",
    "# About 2/3rd have an attached garage.\n",
    "X[\"IsGarageDetached\"] = (all_data[\"GarageType\"] == \"Detchd\") * 1\n",
    "\n",
    "# Most have a paved drive. Treat dirt/gravel and partial pavement\n",
    "# as \"not paved\".\n",
    "#X[\"IsPavedDrive\"] = (all_data[\"PavedDrive\"] == \"Y\") * 1\n",
    "\n",
    "# The only interesting \"misc. feature\" is the presence of a shed.\n",
    "X[\"HasShed\"] = (all_data[\"MiscFeature\"] == \"Shed\") * 1.  \n",
    "\n",
    "# If YearRemodAdd != YearBuilt, then a remodeling took place at some point.\n",
    "X[\"Remodeled\"] = (all_data[\"YearRemodAdd\"] != all_data[\"YearBuilt\"]) * 1\n",
    "    \n",
    "# Did a remodeling happen in the year the house was sold?\n",
    "X[\"RecentRemodel\"] = (all_data[\"YearRemodAdd\"] == all_data[\"YrSold\"]) * 1\n",
    "    \n",
    "# Was this house sold in the year it was built?\n",
    "X[\"VeryNewHouse\"] = (all_data[\"YearBuilt\"] == all_data[\"YrSold\"]) * 1\n",
    "\n",
    "\n",
    "\n",
    "X[\"Has2ndFloor\"] = (all_data[\"2ndFlrSF\"] == 0) * 1\n",
    "X[\"HasMasVnr\"] = (all_data[\"MasVnrArea\"] == 0) * 1\n",
    "X[\"HasWoodDeck\"] = (all_data[\"WoodDeckSF\"] == 0) * 1\n",
    "X[\"HasOpenPorch\"] = (all_data[\"OpenPorchSF\"] == 0) * 1\n",
    "X[\"HasEnclosedPorch\"] = (all_data[\"EnclosedPorch\"] == 0) * 1\n",
    "X[\"Has3SsnPorch\"] = (all_data[\"3SsnPorch\"] == 0) * 1\n",
    "X[\"HasScreenPorch\"] = (all_data[\"ScreenPorch\"] == 0) * 1"
   ]
  },
  {
   "cell_type": "code",
   "execution_count": 22,
   "metadata": {
    "_cell_guid": "a64a33b1-9cd0-986a-bc12-76b30a69f912"
   },
   "outputs": [],
   "source": [
    "X = X.drop('RoofMatl_ClyTile', axis=1) # only one is not zero\n",
    "X = X.drop('Condition2_PosN', axis=1) # only two is not zero\n",
    "X = X.drop('MSZoning_C (all)', axis=1)\n",
    "X = X.drop('MSSubClass_SubClass_160', axis=1)\n",
    "\n",
    "# this features definitely couse overfitting\n",
    "\n",
    "drop_cols = [\n",
    "                \"Exterior1st_ImStucc\", \"Exterior1st_Stone\",\n",
    "                \"Exterior2nd_Other\",\"HouseStyle_2.5Fin\", \n",
    "            \n",
    "                \"RoofMatl_Membran\", \"RoofMatl_Metal\", \"RoofMatl_Roll\",\n",
    "                \"Condition2_RRAe\", \"Condition2_RRAn\", \"Condition2_RRNn\",\n",
    "                \"Heating_Floor\", \"Heating_OthW\",\n",
    "\n",
    "                \"Electrical_Mix\", \n",
    "                \"MiscFeature_TenC\",\n",
    "                #\"GarageQual_Ex\", \n",
    "                \"PoolQC_Fa\"\n",
    "            ]\n",
    "#X.drop(drop_cols, axis=1, inplace=True)"
   ]
  },
  {
   "cell_type": "code",
   "execution_count": 23,
   "metadata": {
    "_cell_guid": "4c3e142c-018d-484d-1b49-997d671a8b12"
   },
   "outputs": [],
   "source": [
    "# add new features\n",
    "X = pd.concat((X, newer_dwelling, season, reconstruct, recon_after_buy,\n",
    "               qu_list, bad_heating, MasVnrType_Any, price_category, build_eq_buy), axis=1)\n",
    "\n",
    "#fK1 = pd.DataFrame(np.zeros((all_data.shape[0],1), dtype=float), columns=['fK1'])\n",
    "##fK1 = all_data.1stFlrSF - all_data.GrLivArea\n",
    "##fK1 = all_data.GrLivArea_KitchenQual - all_data.GrLivArea\n",
    "#fK1 = all_data.KitchenQual\n",
    "#fK1 = fK1.to_sparse()\n",
    "\n",
    "#X = pd.concat((X, fK1), axis = 1)"
   ]
  },
  {
   "cell_type": "markdown",
   "metadata": {
    "_cell_guid": "a3d8ee03-439b-1fe1-0170-2948e08f2fb2"
   },
   "source": [
    "Next step is guess what new feachers we need to intoduse to make the model better. I'll make a lot of feachers and model wiil choose"
   ]
  },
  {
   "cell_type": "code",
   "execution_count": 24,
   "metadata": {
    "_cell_guid": "ab19a761-2876-11c8-3fdb-9fbe703872e3"
   },
   "outputs": [],
   "source": [
    "from itertools import product, chain\n",
    "\n",
    "def poly(X):\n",
    "    areas = ['LotArea',  'GrLivArea' ,'TotalBsmtSF', 'GarageArea', 'BsmtUnfSF']\n",
    "    # t = [s for s in X.axes[1].get_values() if s not in areas]\n",
    "    t = chain(qu_list.axes[1].get_values(), \n",
    "              ['OverallQual', 'OverallCond', 'ExterQual', 'ExterCond', 'BsmtCond', 'GarageQual', 'GarageCond',\n",
    "               'KitchenQual',\n",
    "               'HeatingQC', 'bad_heating', 'MasVnrType_Any', 'SaleCondition_PriceDown', 'Reconstruct',\n",
    "               'ReconstructAfterBuy', 'Build.eq.Buy'])\n",
    "    for a, t in product(areas, t):\n",
    "        x = X.loc[:, [a, t]].prod(1)\n",
    "        x.name = a + '_' + t\n",
    "        yield x\n",
    "        \n",
    "def poly1(X):\n",
    "    areas = ['LotArea',  'GrLivArea' \n",
    "            , 'MasVnrArea', 'BsmtFinSF1', 'BsmtFinSF2', 'WoodDeckSF', 'OpenPorchSF'\n",
    "             , 'LowQualFinSF', 'PoolArea'\n",
    "            ]#,'TotalBsmtSF']\n",
    "    t = chain(qu_list.axes[1].get_values(), \n",
    "              ['OverallQual', 'OverallCond', 'ExterQual', 'ExterCond', \n",
    "            #   'BsmtCond', \n",
    "            #   'GarageQual', 'GarageCond',\n",
    "               'KitchenQual',\n",
    "               'HeatingQC', 'bad_heating', 'MasVnrType_Any', 'SaleCondition_PriceDown', 'Reconstruct',\n",
    "               'ReconstructAfterBuy', 'Build.eq.Buy'])\n",
    "    for a, t in product(areas, t):\n",
    "        x = X.loc[:, [a, t]].prod(1)\n",
    "        x.name = a + '_' + t\n",
    "        yield x\n",
    "        \n",
    "def polyGarage(X):\n",
    "    areas = ['GarageArea']\n",
    "    t = chain(qu_list.axes[1].get_values(), \n",
    "              ['GarageQual', 'GarageCond'])\n",
    "    for a, t in product(areas, t):\n",
    "        x = X.loc[:, [a, t]].prod(1)\n",
    "        x.name = a + '_' + t\n",
    "        yield x\n",
    "        \n",
    "def polyBmst(X):\n",
    "    areas = [ 'BsmtUnfSF', 'TotalBsmtSF']\n",
    "    t = chain(qu_list.axes[1].get_values(), \n",
    "              ['OverallQual', 'OverallCond', 'ExterQual', 'ExterCond', 'BsmtCond', \n",
    "               'HeatingQC', 'bad_heating', 'MasVnrType_Any', 'SaleCondition_PriceDown', 'Reconstruct',\n",
    "               'ReconstructAfterBuy', 'Build.eq.Buy'])\n",
    "    for a, t in product(areas, t):\n",
    "        x = X.loc[:, [a, t]].prod(1)\n",
    "        x.name = a + '_' + t\n",
    "        yield x\n",
    "        \n",
    "\n",
    "def polyCat(X):\n",
    "    areas = ['OverallQual', 'OverallCond', 'ExterQual', 'ExterCond', 'BsmtCond',\n",
    "             'GarageQual', 'GarageCond',\n",
    "               'KitchenQual',\n",
    "               #'HeatingQC', \n",
    "               'bad_heating', 'MasVnrType_Any', 'SaleCondition_PriceDown', 'Reconstruct',\n",
    "               'ReconstructAfterBuy', 'Build.eq.Buy'\n",
    "            , 'CentralAir', 'PavedDrive']\n",
    "    # t = [s for s in X.axes[1].get_values() if s not in areas]\n",
    "    t = chain(qu_list.axes[1].get_values(), \n",
    "              ['OverallQual', 'OverallCond', 'ExterQual', 'ExterCond', 'BsmtCond',\n",
    "               'GarageQual', 'GarageCond',\n",
    "               'KitchenQual',\n",
    "               #'HeatingQC',\n",
    "               'bad_heating', 'MasVnrType_Any', 'SaleCondition_PriceDown', 'Reconstruct',\n",
    "               'ReconstructAfterBuy', 'Build.eq.Buy'\n",
    "              , 'CentralAir', 'PavedDrive'])\n",
    "    for a, t in product(areas, t):\n",
    "        if a == t:\n",
    "            continue\n",
    "        x = X.loc[:, [a, t]].prod(1)\n",
    "        x.name = a + '_AND_' + t\n",
    "        yield x\n",
    "        \n",
    "#XP = pd.concat(poly(X), axis=1)\n",
    "#X = pd.concat((X, XP), axis=1)\n",
    "\n",
    "XP = pd.concat(poly(X), axis=1)\n",
    "X = pd.concat((X, XP), axis=1)\n",
    "#XP = pd.concat(polyGarage(X), axis=1)\n",
    "#X = pd.concat((X, XP), axis=1)\n",
    "#XP = pd.concat(polyBmst(X), axis=1)\n",
    "#X = pd.concat((X, XP), axis=1)\n",
    "#XP = pd.concat(polyCat(X), axis=1)\n",
    "#X = pd.concat((X, XP), axis=1)"
   ]
  },
  {
   "cell_type": "code",
   "execution_count": 25,
   "metadata": {
    "_cell_guid": "cbdd91b4-6ea3-d1bd-3f13-8b92f9265048"
   },
   "outputs": [],
   "source": [
    "#X = X.drop('BsmtUnfSF_GarageCond', axis = 1)\n",
    "\n",
    "X_train = X[:train.shape[0]]\n",
    "X_test = X[train.shape[0]:]"
   ]
  },
  {
   "cell_type": "code",
   "execution_count": 26,
   "metadata": {
    "_cell_guid": "b4560804-7a54-6f1f-6781-1b173b55e5cd"
   },
   "outputs": [
    {
     "data": {
      "text/plain": [
       "(1460, 482)"
      ]
     },
     "execution_count": 26,
     "metadata": {},
     "output_type": "execute_result"
    }
   ],
   "source": [
    "# the model has become really big\n",
    "X_train.shape"
   ]
  },
  {
   "cell_type": "code",
   "execution_count": 27,
   "metadata": {
    "_cell_guid": "b9faea74-013d-0813-9715-44d11b6665ff"
   },
   "outputs": [],
   "source": [
    "y = np.log1p(train.SalePrice)"
   ]
  },
  {
   "cell_type": "code",
   "execution_count": 28,
   "metadata": {
    "_cell_guid": "4be5d5c6-91c1-3f5f-c548-82014a276284"
   },
   "outputs": [],
   "source": [
    "# this come from iterational model improvment. I was trying to understand why the model gives to the two points much better price\n",
    "#x_plot = X_train.loc[X_train['SaleCondition_Partial']==1, 'GrLivArea']\n",
    "#y_plot = y[X_train['SaleCondition_Partial']==1]\n",
    "#plt.scatter(x_plot, y_plot)"
   ]
  },
  {
   "cell_type": "code",
   "execution_count": 29,
   "metadata": {
    "_cell_guid": "7b9a32b8-a62d-08c0-523c-d70b8dd23140"
   },
   "outputs": [
    {
     "name": "stdout",
     "output_type": "stream",
     "text": [
      "1458\n",
      "1458\n",
      "1458\n"
     ]
    }
   ],
   "source": [
    "outliers_id = np.array([524, 1299])\n",
    "\n",
    "outliers_id = outliers_id - 1 # id starts with 1, index starts with 0\n",
    "X_train = X_train.drop(outliers_id)\n",
    "y = y.drop(outliers_id)\n",
    "# There are difinetly more outliers\n",
    "\n",
    "print(len(X_train))\n",
    "\n",
    "#y = y[X_train['1stFlrSF'] / X_train['GrLivArea'] > 1.1]\n",
    "#X_train = X_train[X_train['1stFlrSF'] / X_train['GrLivArea'] > 1.1]\n",
    "\n",
    "\n",
    "#y = y[X_train['GrLivArea'] / X_train['GrLivArea_KitchenQual'] > 1.3]\n",
    "#tX_train = X_train[X_train['GrLivArea'] / X_train['GrLivArea_KitchenQual'] > 1.3]\n",
    "#X_train = tX_train\n",
    "\n",
    "print(len(X_train))\n",
    "print(len(y))"
   ]
  },
  {
   "cell_type": "code",
   "execution_count": 30,
   "metadata": {
    "_cell_guid": "1d04b984-f245-56ed-7fd0-5aff233d4e2e"
   },
   "outputs": [
    {
     "name": "stderr",
     "output_type": "stream",
     "text": [
      "/opt/conda/lib/python3.5/site-packages/sklearn/cross_validation.py:44: DeprecationWarning: This module was deprecated in version 0.18 in favor of the model_selection module into which all the refactored classes and functions are moved. Also note that the interface of the new CV iterators are different from that of this module. This module will be removed in 0.20.\n",
      "  \"This module will be removed in 0.20.\", DeprecationWarning)\n"
     ]
    }
   ],
   "source": [
    "from sklearn.cross_validation import cross_val_score\n",
    "from sklearn.metrics import make_scorer, mean_squared_error\n",
    "\n",
    "def rmsle(y, y_pred):\n",
    "     #return np.sqrt((( (np.log1p(y_pred*price_scale)- np.log1p(y*price_scale)) )**2).mean())\n",
    "        return np.sqrt((( (np.log1p(y_pred)- np.log1p(y)) )**2).mean())\n",
    "\n",
    "# scorer = make_scorer(rmsle, False)\n",
    "scorer = make_scorer(mean_squared_error, False)\n",
    "\n",
    "def rmse_cv(model, X, y):\n",
    "     return (cross_val_score(model, X, y, scoring=scorer, cv = 20)).mean()\n",
    "    #return (train_test_split(model, X, y, scoring=scorer, cv = 20)).mean()"
   ]
  },
  {
   "cell_type": "markdown",
   "metadata": {
    "_cell_guid": "66d40c8e-cf67-3810-965a-814f140e69c3"
   },
   "source": [
    "## Learning ##\n",
    "The model is sparse with n_features > n_samples. Likely it's linear.  It is classic case to use the Lasso model"
   ]
  },
  {
   "cell_type": "code",
   "execution_count": 31,
   "metadata": {
    "_cell_guid": "af3513a4-b20d-2ed7-705c-c9a57d9d042a"
   },
   "outputs": [],
   "source": [
    "from sklearn.linear_model import ElasticNet\n",
    "\n",
    "#pIdx = np.random.permutation(len(y)) \n",
    "\n",
    "#ratios = [0.4, 0.5,0.6,0.7,0.8,0.9,0.95,0.98, 1.0]\n",
    "#alphas = [1e-4, 1.5e-4, 2e-4,  2.25e-4, 2.5e-4, 2.75e-4, 3e-4, 3.5e-4, 4e-4, 5e-4, 7e-4, 1e-3]\n",
    "#cv_lasso = [rmse_cv(Lasso(alpha = alpha, max_iter=50000), X_train[pIdx], y[pIdx]) for alpha in alphas]\n",
    "#pd.Series(cv_lasso, index = alphas).plot()"
   ]
  },
  {
   "cell_type": "markdown",
   "metadata": {
    "_cell_guid": "c1e2a969-b462-9393-5be4-09d042567cef"
   },
   "source": [
    "Choose alpha with better score"
   ]
  },
  {
   "cell_type": "code",
   "execution_count": 32,
   "metadata": {
    "_cell_guid": "93eddc21-2573-06ac-7487-d3ad7180941b"
   },
   "outputs": [
    {
     "name": "stdout",
     "output_type": "stream",
     "text": [
      "1458\n",
      "10.4602707611 13.5344743527\n",
      "1458\n"
     ]
    }
   ],
   "source": [
    "from sklearn.cross_validation import train_test_split\n",
    "from sklearn import linear_model\n",
    "from sklearn.linear_model import RandomizedLasso\n",
    "from sklearn.kernel_ridge import KernelRidge\n",
    "\n",
    "\n",
    "\n",
    "\n",
    "#xtrain, xtest, ytrain, ytest = train_test_split(X_train, y, train_size = 0.8, random_state = 96)\n",
    "xtrain = X_train\n",
    "ytrain = y\n",
    "xtest = X_train.copy()\n",
    "ytest = y.copy()\n",
    "\n",
    "\n",
    "xtrainC1 = xtrain[xtrain['1stFlrSF'] / xtrain['GrLivArea'] > 1.1]\n",
    "ytrainC1 = ytrain[xtrain['1stFlrSF'] / xtrain['GrLivArea'] > 1.1]\n",
    "xtrainC2 = xtrain[xtrain['1stFlrSF'] / xtrain['GrLivArea'] <= 1.1]\n",
    "ytrainC2 = ytrain[xtrain['1stFlrSF'] / xtrain['GrLivArea'] <= 1.1]\n",
    "\n",
    "#print(len(xtrainC1))\n",
    "#print(len(xtrain))\n",
    "#ytrainC1 = ytrainC1.append(ytrain)\n",
    "#xtrainC1 = xtrainC1.append(xtrain)\n",
    "#print(len(xtrainC1))\n",
    "#for i in range(2):\n",
    "#    ytrainC1 = ytrainC1.append(ytrain[xtrain['1stFlrSF'] / xtrain['GrLivArea'] > 1.1])\n",
    "#    xtrainC1 = xtrainC1.append(xtrain[xtrain['1stFlrSF'] / xtrain['GrLivArea'] > 1.1])\n",
    "#print(len(xtrainC1))\n",
    "    \n",
    "    \n",
    "#ytrain = ytrain.append(ytrain[xtrain['1stFlrSF'] / xtrain['GrLivArea'] > 1.1])\n",
    "#xtrain = xtrain.append(xtrain[xtrain['1stFlrSF'] / xtrain['GrLivArea'] > 1.1])\n",
    "#ytrain = ytrain.append(ytrain[xtrain['1stFlrSF'] / xtrain['GrLivArea'] > 1.1])\n",
    "#xtrain = xtrain.append(xtrain[xtrain['1stFlrSF'] / xtrain['GrLivArea'] > 1.1])\n",
    "\n",
    "print(len(xtest))\n",
    "#ytrain = ytrain[xtrain['SaleType_New'] == True]\n",
    "#xtrain = xtrain[xtrain['SaleType_New'] == True]\n",
    "#ytest = ytest[xtest['SaleType_New'] == True]\n",
    "#xtest = xtest[xtest['SaleType_New'] == True]\n",
    "#ytest = ytest[y]\n",
    "\n",
    "#MinY = min(xtrain['GrLivArea'])\n",
    "#MaxY = max(xtrain['GrLivArea'])\n",
    "#MidY = (MinY + MaxY) / 2\n",
    "#ytrain = ytrain[xtrain['GrLivArea'] > MidY]\n",
    "#xtrain = xtrain[xtrain['GrLivArea'] > MidY]\n",
    "#ytest = ytest[xtest['GrLivArea'] > MidY]\n",
    "#xtest = xtest[xtest['GrLivArea'] > MidY]\n",
    "\n",
    "MinY = min(ytrain)\n",
    "MaxY = max(ytrain)\n",
    "print(MinY,MaxY)\n",
    "MinY=10.54\n",
    "MaxY=13.53\n",
    "MidY = (MinY + MaxY) / 2\n",
    "MidY1 = MinY + (MaxY - MinY) * 0.55\n",
    "xtrainP = xtrain[ytrain > MidY]\n",
    "ytrainP = ytrain[ytrain > MidY]\n",
    "#xtrain = xtrain[ytrain > MidY]\n",
    "#ytrain = ytrain[ytrain > MidY]\n",
    "#xtest = xtest[ytest > MidY]\n",
    "#ytest = ytest[ytest > MidY]\n",
    "\n",
    "#print(min(ytrain), max(ytrain), min(ytest), max(ytest))\n",
    "\n",
    "#model_lasso_P = Lasso(alpha=3e-4, max_iter=50000).fit(xtrainP, ytrainP)\n",
    "\n",
    "#print(len(xtest))\n",
    "#print(xtest['OverallQual'])\n",
    "\n",
    "#initXT = xtrain\n",
    "#initYT = ytrain\n",
    "#ytrain = ytrain[xtrain['1stFlrSF'] / xtrain['GrLivArea'] > 1.1]\n",
    "#xtrain = xtrain[xtrain['1stFlrSF'] / xtrain['GrLivArea'] > 1.1]\n",
    "#ytest = ytest[xtest['1stFlrSF'] / xtest['GrLivArea'] > 1.1]\n",
    "#xtest = xtest[xtest['1stFlrSF'] / xtest['GrLivArea'] > 1.1]\n",
    "\n",
    "#model_lasso = Lasso(alpha=5e-4, max_iter=50000).fit(X_train, y)\n",
    "\n",
    "#xtLen = int(len(xtrain) * 0.995)\n",
    "#xtLen1 = int(len(xtrain) * 0.005)\n",
    "#xtrain_k1 = xtrain[:xtLen]\n",
    "#ytrain_k1 = ytrain[:xtLen]\n",
    "#xtrain_k2 = xtrain[xtLen1:]\n",
    "#ytrain_k2 = ytrain[xtLen1:]\n",
    "\n",
    "model_lasso = Lasso(alpha=3e-4, max_iter=50000).fit(xtrain, ytrain)\n",
    "#model_lasso = ElasticNet(alpha=3e-4, max_iter=50000, l1_ratio= 0.6).fit(xtrain, ytrain)\n",
    "\n",
    "#model_lasso = Lasso(alpha=2.5e-4, max_iter=50000).fit(xtrain, ytrain)\n",
    "#model_lasso_1 = Lasso(alpha=2.8e-4, max_iter=50000).fit(xtrain_k1, ytrain_k1)\n",
    "#model_lasso_2 = Lasso(alpha=3.1e-4, max_iter=50000).fit(xtrain_k2, ytrain_k2)\n",
    "\n",
    "#model_lasso_1 = Lasso(alpha=2.6e-4, max_iter=50000, selection = 'random').fit(xtrain, ytrain)\n",
    "#model_lasso_2 = Lasso(alpha=2.8e-4, max_iter=50000, selection = 'random').fit(xtrain, ytrain)\n",
    "#model_lasso_3 = Lasso(alpha=3.15e-4, max_iter=50000, selection = 'random').fit(xtrain, ytrain)\n",
    "#model_lasso_4 = Lasso(alpha=3.3e-4, max_iter=50000, selection = 'random').fit(xtrain, ytrain)\n",
    "#model_lasso_5 = Lasso(alpha=1e-4, max_iter=50000).fit(xtrain, ytrain)\n",
    "#model_lasso_6 = Lasso(alpha=5e-4, max_iter=50000).fit(xtrain, ytrain)\n",
    "\n",
    "#model_lassoC1 = model_lasso\n",
    "#model_lassoC1 = Lasso(alpha=3e-4, max_iter=50000).fit(xtrainC1, ytrainC1)\n",
    "#model_lassoC2 = Lasso(alpha=6e-4, max_iter=50000).fit(xtrainC2, ytrainC2)\n",
    "\n",
    "#model_lasso = RandomizedLasso(alpha=5e-4, max_iter=50000).fit(xtrain, ytrain)\n",
    "#model_lasso = Lasso(alpha=4e-4, max_iter=50000).fit(xtrain, ytrain)\n",
    "#model_lasso = Lasso(alpha=7.5e-4, max_iter=50000).fit(xtrain, ytrain)\n",
    "\n",
    "\n",
    "#model_lasso = linear_model.LogisticRegression().fit(xtrain, ytrain)\n",
    "#model_lasso = KernelRidge(alpha=5e-4).fit(xtrain, ytrain)\n",
    "\n",
    "MinL = min(X_train['GrLivArea'])\n",
    "MaxL = max(X_train['GrLivArea'])\n",
    "\n",
    "print(len(xtrain))\n",
    "\n",
    "#xtrain1 = list()\n",
    "#xtrain2 = list()\n",
    "#ytrain1 = list()\n",
    "#ytrain2 = list()\n",
    "\n",
    "#xtrain1 = np.array([])\n",
    "#xtrain2 = np.array([])\n",
    "#ytrain1 = np.array([])\n",
    "#ytrain2 = np.array([])\n",
    "\n",
    "#for i in range(len(xtrain)):\n",
    " #   if xtrain['GrLivArea'][i] < MinL + (MaxL - MinL) * 0.5:\n",
    "#      np.append(xtrain1, xtrain[:][i])\n",
    "   #     np.append(ytrain1, ytrain[:][i])\n",
    "# else:\n",
    "#        np.append(xtrain2, xtrain[:][i])\n",
    " #       np.append(ytrain2, ytrain[:][i])\n",
    "        \n",
    "#print(len(xtrain1))\n",
    "#print(len(xtrain2))\n",
    "        \n",
    "#print(len(xtrain['GrLivArea']  > MinL + (MaxL - MinL) * 0.5))\n",
    "\n",
    "#model_lasso1 = Lasso(alpha=5e-4, max_iter=50000).fit(xtrain, ytrain)\n",
    "\n",
    "#x_plot = X_train.loc[:, 'GrLivArea_KitchenQual']\n",
    "#y_plot = X_train.loc[:, 'GrLivArea']\n",
    "##y_plot = X_train.loc[:, '1stFlrSF']\n",
    "#plt.scatter(x_plot, y_plot)"
   ]
  },
  {
   "cell_type": "markdown",
   "metadata": {
    "_cell_guid": "27a3f809-5300-758d-f379-0c9ccaf988b5"
   },
   "source": [
    "## Getting results##"
   ]
  },
  {
   "cell_type": "code",
   "execution_count": 33,
   "metadata": {
    "_cell_guid": "09ab72bf-82c6-f2b1-3818-668fef834c62"
   },
   "outputs": [
    {
     "data": {
      "text/plain": [
       "<matplotlib.text.Text at 0x7f2e1e65a198>"
      ]
     },
     "execution_count": 33,
     "metadata": {},
     "output_type": "execute_result"
    },
    {
     "data": {
      "image/png": "[encoded data removed]",
      "text/plain": [
       "<matplotlib.figure.Figure at 0x7f2e1e4d0e48>"
      ]
     },
     "metadata": {},
     "output_type": "display_data"
    }
   ],
   "source": [
    "coef = pd.Series(model_lasso.coef_, index = X_train.columns).sort_values()\n",
    "#imp_coef = pd.concat([coef.head(10), coef.tail(10)])\n",
    "#imp_coef.plot(kind = \"barh\")\n",
    "#plt.title(\"Coefficients in the Model\")\n",
    "imp_coef = pd.concat([coef.head(23)])\n",
    "imp_coef.plot(kind = \"barh\")\n",
    "plt.title(\"Coefficients in the Model         Up\")\n"
   ]
  },
  {
   "cell_type": "markdown",
   "metadata": {
    "_cell_guid": "9aefbc31-64a7-9461-8ba0-7a72841589c0"
   },
   "source": [
    "Some features still look suspicious. May be, we need to exlude them like RoofMatl_ClyTile and others"
   ]
  },
  {
   "cell_type": "code",
   "execution_count": 34,
   "metadata": {
    "_cell_guid": "f036759b-2fd7-80e5-ecd1-f3facb725451"
   },
   "outputs": [
    {
     "name": "stdout",
     "output_type": "stream",
     "text": [
      "End train\n"
     ]
    },
    {
     "ename": "NameError",
     "evalue": "name 'xtrain_SY' is not defined",
     "output_type": "error",
     "traceback": [
      "\u001b[0;31m---------------------------------------------------------------------------\u001b[0m",
      "\u001b[0;31mNameError\u001b[0m                                 Traceback (most recent call last)",
      "\u001b[0;32m<ipython-input-34-b13509635e2d>\u001b[0m in \u001b[0;36m<module>\u001b[0;34m()\u001b[0m\n\u001b[1;32m    122\u001b[0m \u001b[0mprint\u001b[0m\u001b[0;34m(\u001b[0m\u001b[0;34m\"End train\"\u001b[0m\u001b[0;34m)\u001b[0m\u001b[0;34m\u001b[0m\u001b[0m\n\u001b[1;32m    123\u001b[0m \u001b[0;34m\u001b[0m\u001b[0m\n\u001b[0;32m--> 124\u001b[0;31m \u001b[0mnew_pred\u001b[0m \u001b[0;34m=\u001b[0m \u001b[0mclf\u001b[0m\u001b[0;34m.\u001b[0m\u001b[0mpredict\u001b[0m\u001b[0;34m(\u001b[0m\u001b[0mxtrain_SY\u001b[0m\u001b[0;34m)\u001b[0m \u001b[0;34m+\u001b[0m \u001b[0mp_pred\u001b[0m\u001b[0;34m\u001b[0m\u001b[0m\n\u001b[0m\u001b[1;32m    125\u001b[0m \u001b[0;34m\u001b[0m\u001b[0m\n\u001b[1;32m    126\u001b[0m \u001b[0;34m\u001b[0m\u001b[0m\n",
      "\u001b[0;31mNameError\u001b[0m: name 'xtrain_SY' is not defined"
     ]
    },
    {
     "data": {
      "image/png": "[encoded data removed]",
      "text/plain": [
       "<matplotlib.figure.Figure at 0x7f2e1e2ed1d0>"
      ]
     },
     "metadata": {},
     "output_type": "display_data"
    }
   ],
   "source": [
    "imp_coef = pd.concat([coef.tail(23)])\n",
    "imp_coef.plot(kind = \"barh\")\n",
    "plt.title(\"Coefficients in the Model         Down\")\n",
    "\n",
    "# This is a good way to see how model predict data\n",
    "import xgboost\n",
    "from sklearn.svm import SVR\n",
    "from sklearn.ensemble import ExtraTreesRegressor\n",
    "from sklearn.neural_network import MLPRegressor\n",
    "from numpy import inf\n",
    "\n",
    "import warnings\n",
    "warnings.filterwarnings('ignore')\n",
    "\n",
    "#ELASTIC NET\n",
    "clf2 = ElasticNet(alpha=0.0005, l1_ratio=0.9)\n",
    "clf2.fit(xtrain, ytrain)\n",
    "elas_preds = np.expm1(clf2.predict(xtrain))\n",
    "\n",
    "#XGBOOST\n",
    "clf3=xgboost.XGBRegressor(colsample_bytree=0.4,\n",
    "                 gamma=0.045,                 \n",
    "                 learning_rate=0.07,\n",
    "                 max_depth=20,\n",
    "                 min_child_weight=1.5,\n",
    "                 n_estimators=3000,                                                                    \n",
    "                 reg_alpha=0.65,\n",
    "                 reg_lambda=0.45,\n",
    "                 subsample=0.95)\n",
    "\n",
    "clf3.fit(xtrain, ytrain)\n",
    "xgb_preds = np.expm1(clf3.predict(xtrain))\n",
    "\n",
    "\n",
    "\n",
    "#p_pred = np.expm1(model_lasso.predict(xtrain))\n",
    "p_pred = (np.expm1(model_lasso.predict(xtrain)) \n",
    "          #+ np.expm1(model_lasso_1.predict(xtrain)) + np.expm1(model_lasso_2.predict(xtrain))\n",
    "          #+ np.expm1(model_lasso_3.predict(xtrain)) + np.expm1(model_lasso_4.predict(xtrain))\n",
    "         # + np.expm1(model_lasso_5.predict(xtrain)) + np.expm1(model_lasso_6.predict(xtrain))\n",
    "          ) / 1\n",
    "\n",
    "lasso_preds = p_pred\n",
    "\n",
    "WK1 = 0.51\n",
    "WK2 = 0.24\n",
    "WK3 = 0.26\n",
    "\n",
    "#WK1 = 0.57\n",
    "#WK2 = 0.21\n",
    "#WK3 = 0.23\n",
    "\n",
    "p_pred = WK1*lasso_preds + WK2*xgb_preds+WK3*elas_preds\n",
    "\n",
    "#MinY = min(p_pred)\n",
    "#MaxY = max(p_pred)\n",
    "#MidY = (MinY + MaxY) / 2\n",
    "#xtrainP = xtrain[p_pred < MidY]\n",
    "#ytrainP = ytrain[p_pred < MidY]\n",
    "#print(len(xtrain))\n",
    "#rint(len(xtrainP))\n",
    "#xtest = xtest[ytest > MidY]\n",
    "#ytest = ytest[ytest > MidY]\n",
    "\n",
    "#idx = 0\n",
    "#for index, it in xtrain.iterrows():\n",
    "#    if ytrain[index].item() > np.expm1(MidY):\n",
    "#    #if p_pred[idx] > np.expm1(MidY):\n",
    "#    #if p_pred[idx] > MidY:\n",
    "#        p_pred[idx] = np.expm1(model_lasso_P.predict(it))\n",
    "#    idx = idx + 1\n",
    "\n",
    "\n",
    "#idx = 0\n",
    "#for index, it in xtrain.iterrows():\n",
    "#    if it['1stFlrSF'] / it['GrLivArea'] > 1.1:\n",
    "#        p_pred[idx] = np.expm1(model_lassoC1.predict(it))\n",
    "#    else:\n",
    "#        p_pred[idx] = np.expm1(model_lasso.predict(it))\n",
    "#    idx = idx + 1\n",
    "\n",
    "resid = np.expm1(ytrain) - p_pred\n",
    "\n",
    "X_train_new = X_train\n",
    "#X_train_new['GrLivArea']=0\n",
    "\n",
    "clf = RandomForestRegressor(n_estimators=300, n_jobs=-1, max_features = 0.9,\n",
    "                               max_depth = 9, min_samples_split = 25, min_samples_leaf = 10,\n",
    " random_state = 36\n",
    "                          )\n",
    "\n",
    "#clfC1 = RandomForestRegressor(n_estimators=300, n_jobs=-1, max_features = 0.9,\n",
    " #                              max_depth = 9, min_samples_split = 25, min_samples_leaf = 10,\n",
    "# random_state = 36\n",
    " #                         )\n",
    "\n",
    "#clf = MLPRegressor(hidden_layer_sizes = (50, 30), solver = 'adam', random_state = 35,\n",
    "#                   alpha = 0.0001, max_iter = 500, activation = 'logistic',\n",
    " #                 learning_rate_init = 0.001, batch_size = 40)\n",
    "\n",
    "#clf = ExtraTreesRegressor(n_estimators=500, max_depth = 6 ,# max_features = 0.5,\n",
    " #                          min_samples_split = 25, min_samples_leaf = 10,\n",
    "#random_state = 36\n",
    " #                        )\n",
    "\n",
    "#clf = xgboost.XGBRegressor(n_estimators=10, max_depth = 8, colsample_bytree = 0.5,\n",
    "##clf = xgboost.XGBRegressor(n_estimators=100, max_depth = 5, colsample_bytree = 0.5,\n",
    " #                          min_child_weight = 20, gamma = 0.5, subsample = 0.96,\n",
    "#                     #reg_lambda = 0.9, reg_alpha = 0.8, missing = 0,\n",
    "  #                seed = 36)\n",
    "    \n",
    "#clf = SVR(kernel='rbf', C=0.5)\n",
    "\n",
    "#resid1 = resid[xtrain['OverallQual'] < 1.25]\n",
    "#xtrain1 = xtrain[xtrain['OverallQual'] < 1.25]\n",
    "\n",
    "#xtrain_SY = xtrain.copy()\n",
    "#xtrain_SY[\"s1Y\"] = np.log1p(p_pred)\n",
    "\n",
    "clf.fit(xtrain, resid) \n",
    "#clf.fit(xtrain1, resid1) \n",
    "print(\"End train\")\n",
    "\n",
    "new_pred = clf.predict(xtrain_SY) + p_pred\n",
    "\n",
    "\n",
    "\n",
    "\n",
    "#s1_test_pred = np.expm1(model_lasso.predict(xtest))\n",
    "s1_test_pred = (np.expm1(model_lasso.predict(xtest)) \n",
    "               # + np.expm1(model_lasso_1.predict(xtest)) + np.expm1(model_lasso_2.predict(xtest))\n",
    "               # + np.expm1(model_lasso_3.predict(xtest)) + np.expm1(model_lasso_4.predict(xtest))\n",
    "               # + np.expm1(model_lasso_5.predict(xtest)) + np.expm1(model_lasso_6.predict(xtest)) \n",
    "               ) / 1\n",
    "\n",
    "#idx = 0\n",
    "#for index, it in xtest.iterrows():\n",
    "#    if s1_test_pred[idx] > np.expm1(MidY1):\n",
    "##   if ytest[index].item() > MidY:\n",
    "#        s1_test_pred[idx] = np.expm1(model_lasso_P.predict(it))\n",
    "#    idx = idx + 1\n",
    "\n",
    "#s1_test_pred = np.median( [np.expm1(model_lasso.predict(xtest)),\n",
    " #               np.expm1(model_lasso_1.predict(xtest)),\n",
    "#              np.expm1(model_lasso_2.predict(xtest)),\n",
    "#               np.expm1(model_lasso_3.predict(xtest)),\n",
    " #              np.expm1(model_lasso_4.predict(xtest)) ])\n",
    "\n",
    "#idx = 0\n",
    "#for index, it in xtest.iterrows():\n",
    "#    if it['1stFlrSF'] / it['GrLivArea'] > 1.1:\n",
    "#        s1_test_pred[idx] = np.expm1(model_lassoC1.predict(it))\n",
    "#    else:\n",
    "#        s1_test_pred[idx] = np.expm1(model_lasso.predict(it))\n",
    "#    idx = idx + 1\n",
    "\n",
    "elas_preds = np.expm1(clf2.predict(xtest))\n",
    "xgb_preds = np.expm1(clf3.predict(xtest))\n",
    "lasso_preds = s1_test_pred\n",
    "s1_test_pred = WK1*lasso_preds + WK2*xgb_preds+WK3*elas_preds\n",
    "\n",
    "\n",
    "\n",
    "#xtest[\"s1Y\"] = np.log1p(s1_test_pred)\n",
    "\n",
    "\n",
    "\n",
    "test_pred = s1_test_pred + clf.predict(xtest)\n",
    "\n",
    "print(\"Stage 1 score\")\n",
    "print(rmsle(np.expm1(ytest), s1_test_pred))\n",
    "\n",
    "#idx = 0\n",
    "#for index, it in xtest.iterrows():\n",
    "#    if test_pred[idx] > np.expm1(MidY1):\n",
    "#        s1_test_pred[idx] = np.expm1(model_lasso_P.predict(it))\n",
    "#        test_pred[idx] = np.expm1(model_lasso_P.predict(it)) + clf.predict(it)\n",
    "#    idx = idx + 1\n",
    "\n",
    "#lenTest = len(ytest)\n",
    "#ytest = ytest[int(lenTest/2):]\n",
    "#test_pred = test_pred[int(lenTest/2):]\n",
    "#s1_test_pred = s1_test_pred[int(lenTest/2):]\n",
    "\n",
    "#print(len(xtest))\n",
    "#print(len(test_pred))\n",
    "#print(len(s1_test_pred))\n",
    "\n",
    "#xtest.reindex_axis()\n",
    "#print(xtest)\n",
    "#print()\n",
    "#print(ytest)\n",
    "\n",
    "#for it in test_pred:\n",
    "#    if it < min(np.expm1(ytrain)):\n",
    "#        it = min(np.expm1(ytrain))\n",
    "\n",
    "print(max(np.expm1(ytrain)), max(s1_test_pred))\n",
    "print(min(np.expm1(ytrain)), min(s1_test_pred))\n",
    "\n",
    "#test_pred[xtest['1stFlrSF'] / xtest['GrLivArea'] < 1.1] = s1_test_pred[xtest['1stFlrSF'] / xtest['GrLivArea'] < 1.1] + clf.predict(xtest[xtest['1stFlrSF'] / xtest['GrLivArea'] < 1.1])\n",
    "print(\"new Lasso\")\n",
    "\n",
    "up_resid = np.expm1(ytrain) - new_pred \n",
    "\n",
    "#clf1 = RandomForestRegressor(n_estimators=300, n_jobs=-1, max_features = 0.9,\n",
    " #                              max_depth = 5, min_samples_split = 25, min_samples_leaf = 10,\n",
    "#random_state = 51\n",
    " #                         )   \n",
    "\n",
    "#clf1 = xgboost.XGBRegressor(n_estimators=10, max_depth = 7, colsample_bytree = 0.5,\n",
    "##clf = xgboost.XGBRegressor(n_estimators=100, max_depth = 5, colsample_bytree = 0.5,\n",
    " #                          min_child_weight = 20, gamma = 0.5, subsample = 0.96,\n",
    "#                   #reg_lambda = 0.9, reg_alpha = 0.8, missing = 0,\n",
    "  #                seed = 36)\n",
    "\n",
    "#clf1 = MLPRegressor(hidden_layer_sizes = (50, 30), solver = 'adam', random_state = 35,\n",
    "  #                 alpha = 0.0001, max_iter = 500, activation = 'logistic',\n",
    "#               learning_rate_init = 0.001, batch_size = 40)\n",
    "    \n",
    "#clf1 = MLPRegressor(hidden_layer_sizes = (40, 20), solver = 'adam', random_state = 35,\n",
    " #                  alpha = 0.001, max_iter = 300, activation = 'logistic')\n",
    "    \n",
    "#clf1.fit(xtrain, up_resid)\n",
    "#test_pred = test_pred + clf1.predict(xtest)\n",
    "\n",
    "\n",
    "#!!!!!!!!!!!!!!!!!!!!!!!!!!!!!!!!!!!!!!!!!!!!!!!!!!!!!!!!!!!!!!!!!!!!!!\n",
    "idx = 0\n",
    "for index, it in xtest.iterrows():\n",
    "    if it['OverallQual'] == 1.25:\n",
    "        test_pred[idx] = s1_test_pred[idx]\n",
    "    idx = idx + 1\n",
    "\n",
    "\n",
    "#model_lasso_up = Lasso(alpha=1e-2, max_iter=200000).fit(xtrain, np.log1p(up_resid))\n",
    "#test_pred = test_pred + np.expm1(model_lasso_up.predict(xtest))\n",
    "\n",
    "#model_lasso_up = Lasso(alpha=1e-3, max_iter=200000).fit(xtrain, up_resid)\n",
    "#test_pred = test_pred + model_lasso_up.predict(xtest)\n",
    "\n",
    "\n",
    "#features = X_train.columns\n",
    "#imp = clf.feature_importances_\n",
    "#fimp = np.argsort(imp)\n",
    "#fimp = fimp[-16:]\n",
    "#plt.title('Feature Importances')\n",
    "#plt.barh(range(len(fimp)), imp[fimp], color='b', align='center')\n",
    "#plt.yticks(range(len(fimp)), features[fimp])\n",
    "#plt.xlabel('Relative Importance')\n",
    "\n",
    "\n",
    "tp = test_pred[xtest['1stFlrSF'] / xtest['GrLivArea'] < 1.1]\n",
    "\n",
    "#plt.scatter(new_pred, np.expm1(y))\n",
    "#plt.plot([min(new_pred),max(new_pred)], [min(new_pred),max(new_pred)], c=\"red\")\n",
    "\n",
    "\n",
    "print(\"Stage 1 score\")\n",
    "print(rmsle(np.expm1(ytest), s1_test_pred))\n",
    "#print(rmsle(np.expm1(y), p_pred))\n",
    "print(\"Stage 2 score\")\n",
    "print(rmsle(np.expm1(ytest), test_pred))\n",
    "\n",
    "if(rmsle(np.expm1(ytest), test_pred) < rmsle(np.expm1(ytest), s1_test_pred)):\n",
    "    print(\"============== OK =================\")\n",
    "#print(rmsle(np.expm1(y), new_pred))"
   ]
  },
  {
   "cell_type": "markdown",
   "metadata": {
    "_cell_guid": "ca10ffb3-cc8d-b9a5-dd28-5cdeafd238aa"
   },
   "source": [
    "Some point are far from the red line. May be they are outliers like the 524th and the 1299th"
   ]
  },
  {
   "cell_type": "code",
   "execution_count": 35,
   "metadata": {
    "_cell_guid": "6772895c-191f-98dd-b99c-f574a68ebe0c"
   },
   "outputs": [
    {
     "name": "stdout",
     "output_type": "stream",
     "text": [
      "Write Solution\n"
     ]
    }
   ],
   "source": [
    "# save to file to make a submission\n",
    "ps1 = (np.expm1(model_lasso.predict(X_test)) \n",
    "   #  + np.expm1(model_lasso_1.predict(X_test)) + np.expm1(model_lasso_2.predict(X_test))\n",
    "   #  + np.expm1(model_lasso_3.predict(X_test)) + np.expm1(model_lasso_4.predict(X_test))\n",
    "     #+ np.expm1(model_lasso_5.predict(X_test)) + np.expm1(model_lasso_6.predict(X_test))\n",
    "    ) / 1\n",
    "\n",
    "elas_preds = np.expm1(clf2.predict(X_test))\n",
    "xgb_preds = np.expm1(clf3.predict(X_test))\n",
    "lasso_preds = ps1\n",
    "\n",
    "ps1 = WK1*lasso_preds + WK2*xgb_preds+WK3*elas_preds\n",
    "\n",
    "#idx = 0\n",
    "#for index, it in X_test.iterrows():\n",
    "#    if it['1stFlrSF'] / it['GrLivArea'] > 1.1:\n",
    "#        ps1[idx] = np.expm1(model_lassoC1.predict(it))\n",
    "#    else:\n",
    "#        ps1[idx] = np.expm1(model_lasso.predict(it))\n",
    "#    idx = idx + 1\n",
    "\n",
    "#X_test[\"s1Y\"] = ps1\n",
    "\n",
    "p = ps1 + clf.predict(X_test)# + clf1.predict(X_test)\n",
    "\n",
    "idx = 0\n",
    "for index, it in X_test.iterrows():\n",
    "    if it['OverallQual'] == 1.25:\n",
    "        p[idx] = ps1[idx]\n",
    "    idx = idx + 1\n",
    "\n",
    "#solution = pd.DataFrame({\"id\":test.Id, \"SalePrice\":p}, columns=['id', 'SalePrice'])\n",
    "solution = pd.DataFrame({\"id\":p, \"SalePrice\":test.Id}, columns=['SalePrice', 'id'])\n",
    "solution.to_csv(\"lasso_sol22_Median.csv\", index = False)\n",
    "print(\"Write Solution\")\n",
    "\n",
    "\n",
    "#p_pred = np.expm1(model_lasso.predict(xtrain))\n",
    "p_pred = (np.expm1(model_lasso.predict(xtrain)) \n",
    "          #+ np.expm1(model_lasso_1.predict(xtrain)) + np.expm1(model_lasso_2.predict(xtrain))\n",
    "          #+ np.expm1(model_lasso_3.predict(xtrain)) + np.expm1(model_lasso_4.predict(xtrain))\n",
    "         # + np.expm1(model_lasso_5.predict(xtrain)) + np.expm1(model_lasso_6.predict(xtrain))\n",
    "          ) / 1\n",
    "\n",
    "lasso_pred = p_pred"
   ]
  },
  {
   "cell_type": "markdown",
   "metadata": {
    "_cell_guid": "f05a8111-558e-3d8e-0b91-9febf6e45696"
   },
   "source": [
    "## Model improvement##\n",
    "With various model tunnings I've got 0.11720 in public leaderboard. Ways of improvement are find some more outliers and exlude (or include) features."
   ]
  }
 ],
 "metadata": {
  "_change_revision": 157,
  "_is_fork": false,
  "kernelspec": {
   "display_name": "Python 3",
   "language": "python",
   "name": "python3"
  },
  "language_info": {
   "codemirror_mode": {
    "name": "ipython",
    "version": 3
   },
   "file_extension": ".py",
   "mimetype": "text/x-python",
   "name": "python",
   "nbconvert_exporter": "python",
   "pygments_lexer": "ipython3",
   "version": "3.5.2"
  }
 },
 "nbformat": 4,
 "nbformat_minor": 0
}
